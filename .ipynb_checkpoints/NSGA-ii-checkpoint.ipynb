{
 "cells": [
  {
   "cell_type": "code",
   "execution_count": 1,
   "id": "a944344b-4db9-43cb-a583-900b7f5f79fe",
   "metadata": {},
   "outputs": [],
   "source": [
    "import random as rn\n",
    "import numpy as np\n",
    "import matplotlib.pyplot as plt\n",
    "import math"
   ]
  },
  {
   "cell_type": "code",
   "execution_count": 2,
   "id": "438e1793-7586-4208-b1e7-1cadd79b017f",
   "metadata": {},
   "outputs": [],
   "source": [
    "def random_population(nv,n,lb,ub):\n",
    "    # nv = numver of variables\n",
    "    # n = number of random solutions\n",
    "    # lb = lower bound\n",
    "    # ub = upper bound\n",
    "    pop=np.zeros((n, nv)) \n",
    "    for i in range(n):\n",
    "        pop[i,:] = np.random.uniform(lb,ub)\n",
    " \n",
    "    return pop"
   ]
  },
  {
   "cell_type": "code",
   "execution_count": 3,
   "id": "6be432a1-2978-43c8-912d-802adf60939a",
   "metadata": {},
   "outputs": [],
   "source": [
    "def crossover(pop, crossover_rate):\n",
    "    offspring = np.zeros((crossover_rate, pop.shape[1]))\n",
    "    for i in range(int(crossover_rate/2)):\n",
    "        r1=np.random.randint(0, pop.shape[0])\n",
    "        r2 = np.random.randint(0, pop.shape[0])\n",
    "        while r1 == r2:\n",
    "            r1 = np.random.randint(0, pop.shape[0])\n",
    "            r2 = np.random.randint(0, pop.shape[0])\n",
    "        cutting_point = np.random.randint(1, pop.shape[1])\n",
    "        offspring[2*i, 0:cutting_point] = pop[r1, 0:cutting_point]\n",
    "        offspring[2*i, cutting_point:] = pop[r2, cutting_point:]\n",
    "        offspring[2*i+1, 0:cutting_point] = pop[r2, 0:cutting_point]\n",
    "        offspring[2*i+1, cutting_point:] = pop[r1, cutting_point:]\n",
    " \n",
    "    return offspring"
   ]
  },
  {
   "cell_type": "code",
   "execution_count": 6,
   "id": "4d51cb10-51b5-4020-b9de-ab2802730620",
   "metadata": {},
   "outputs": [],
   "source": [
    "def mutation(pop, mutation_rate):\n",
    "    offspring = np.zeros((mutation_rate, pop.shape[1]))\n",
    "    for i in range(int(mutation_rate/2)):\n",
    "        r1=np.random.randint(0, pop.shape[0])\n",
    "        r2 = np.random.randint(0, pop.shape[0])\n",
    "        while r1 == r2:\n",
    "            r1 = np.random.randint(0, pop.shape[0])\n",
    "            r2 = np.random.randint(0, pop.shape[0])\n",
    "        cutting_point = np.random.randint(0, pop.shape[1])\n",
    "        offspring[2*i] = pop[r1]\n",
    "        offspring[2*i,cutting_point] = pop[r2,cutting_point]\n",
    "        offspring[2*i+1] = pop[r2]\n",
    "        offspring[2*i+1, cutting_point] = pop[r1, cutting_point]\n",
    " \n",
    "    return offspring"
   ]
  },
  {
   "cell_type": "code",
   "execution_count": 7,
   "id": "be1e62f1-e86b-47bd-965a-d18e60bd4514",
   "metadata": {},
   "outputs": [],
   "source": [
    "def local_search(pop, n, step_size):\n",
    "    # number of offspring chromosomes generated from the local search\n",
    "    offspring = np.zeros((n, pop.shape[1]))\n",
    "    for i in range(n):  \n",
    "          offspring[i,:] = chromosome\n",
    "    return offspring"
   ]
  },
  {
   "cell_type": "code",
   "execution_count": 10,
   "id": "926985ad-4860-4249-8246-f2e8f442ebe4",
   "metadata": {},
   "outputs": [],
   "source": [
    "def evaluation(pop):\n",
    "    fitness_values = np.zeros((pop.shape[0], 2)) # because of 2 objective functions\n",
    "    for i, x in enumerate(pop):\n",
    "      \n",
    "        obj1 = 0\n",
    "        for j in range(2):\n",
    "            obj1 += - 10*math.exp(-0.2*math.sqrt((x[j])**2 + (x[j+1])**2))\n",
    " \n",
    "        obj2 = 0\n",
    "        for j in range(3):\n",
    "            obj2 += (abs(x[j]))**0.8 + 5*math.sin((x[j])**3)\n",
    " \n",
    "        fitness_values[i,0] = obj1 # objective 1\n",
    "        fitness_values[i,1] = obj2 # objective 2\n",
    " \n",
    "    return fitness_values"
   ]
  },
  {
   "cell_type": "code",
   "execution_count": 11,
   "id": "04ff66d8-00a2-4162-b7c7-0ccb859e80a7",
   "metadata": {},
   "outputs": [],
   "source": [
    "def crowding_calculation(fitness_values):\n",
    "     \n",
    "    pop_size = len(fitness_values[:, 0])\n",
    "    fitness_value_number = len(fitness_values[0, :])\n",
    "    matrix_for_crowding = np.zeros((pop_size, fitness_value_number))\n",
    "    ...\n",
    "    for i in range(fitness_value_number):\n",
    "        crowding_results = np.zeros(pop_size)\n",
    "    return crowding_distance"
   ]
  },
  {
   "cell_type": "code",
   "execution_count": 12,
   "id": "15d20eb7-91c2-4050-9f6c-06d560826cd9",
   "metadata": {},
   "outputs": [],
   "source": [
    "def remove_using_crowding(fitness_values, number_solutions_needed):\n",
    "   \n",
    "    pop_index = np.arange(fitness_values.shape[0])\n",
    "    crowding_distance = crowding_calculation(fitness_values)\n",
    "    selected_pop_index = np.zeros((number_solutions_needed))\n",
    "    \n",
    "    for i in range(number_solutions_needed):\n",
    "        pop_size = pop_index.shape[0]\n",
    "        solution_1 = rn.randint(0, pop_size - 1)\n",
    "   \n",
    "    return (selected_pop_index)"
   ]
  },
  {
   "cell_type": "code",
   "execution_count": 15,
   "id": "6bbc302d-4a51-4530-8a1b-cee0826e2780",
   "metadata": {},
   "outputs": [],
   "source": [
    "def pareto_front_finding(fitness_values, pop_index):\n",
    " \n",
    "    pop_size = fitness_values.shape[0]\n",
    "    for i in range(pop_size):\n",
    "        for j in range(pop_size):\n",
    "            \n",
    "    return pop_index[pareto_front]"
   ]
  }
 ],
 "metadata": {
  "kernelspec": {
   "display_name": "Python 3 (ipykernel)",
   "language": "python",
   "name": "python3"
  },
  "language_info": {
   "codemirror_mode": {
    "name": "ipython",
    "version": 3
   },
   "file_extension": ".py",
   "mimetype": "text/x-python",
   "name": "python",
   "nbconvert_exporter": "python",
   "pygments_lexer": "ipython3",
   "version": "3.12.4"
  }
 },
 "nbformat": 4,
 "nbformat_minor": 5
}
